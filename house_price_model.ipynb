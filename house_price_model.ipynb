{
  "nbformat": 4,
  "nbformat_minor": 0,
  "metadata": {
    "colab": {
      "provenance": []
    },
    "kernelspec": {
      "name": "python3",
      "display_name": "Python 3"
    },
    "language_info": {
      "name": "python"
    }
  },
  "cells": [
    {
      "cell_type": "code",
      "source": [
        "# House Price Prediction using Linear Regression\n",
        "\n",
        "# Step 1: Import Libraries\n",
        "import pandas as pd\n",
        "import numpy as np\n",
        "import matplotlib.pyplot as plt\n",
        "import seaborn as sns\n",
        "\n",
        "from sklearn.model_selection import train_test_split\n",
        "from sklearn.linear_model import LinearRegression\n",
        "from sklearn.metrics import mean_squared_error, r2_score\n",
        "\n",
        "# Step 2: Upload train.csv\n",
        "from google.colab import files\n",
        "uploaded = files.upload()  # Upload the 'train.csv' from Kaggle\n",
        "\n",
        "# Step 3: Load Dataset\n",
        "df = pd.read_csv(\"train.csv\")\n",
        "print(\"Data loaded successfully.\")\n",
        "df.head()\n",
        "\n",
        "# Step 4: Data Cleaning (keep only required columns)\n",
        "df = df[['GrLivArea', 'BedroomAbvGr', 'FullBath', 'SalePrice']]\n",
        "df.dropna(inplace=True)\n",
        "\n",
        "# Step 5: Feature Selection\n",
        "X = df[['GrLivArea', 'BedroomAbvGr', 'FullBath']]\n",
        "y = df['SalePrice']\n",
        "\n",
        "# Step 6: Train-Test Split\n",
        "X_train, X_test, y_train, y_test = train_test_split(X, y, test_size=0.2, random_state=42)\n",
        "\n",
        "# Step 7: Train Linear Regression Model\n",
        "model = LinearRegression()\n",
        "model.fit(X_train, y_train)\n",
        "\n",
        "# Step 8: Evaluate Model\n",
        "y_pred = model.predict(X_test)\n",
        "mse = mean_squared_error(y_test, y_pred)\n",
        "r2 = r2_score(y_test, y_pred)\n",
        "\n",
        "print(\"\\nModel Evaluation:\")\n",
        "print(f\"Mean Squared Error: {mse:.2f}\")\n",
        "print(f\"R² Score: {r2:.4f}\")\n",
        "\n",
        "# Step 9: Visualization\n",
        "plt.figure(figsize=(8,6))\n",
        "sns.scatterplot(x=y_test, y=y_pred)\n",
        "plt.xlabel(\"Actual Prices\")\n",
        "plt.ylabel(\"Predicted Prices\")\n",
        "plt.title(\"Actual vs Predicted House Prices\")\n",
        "plt.grid(True)\n",
        "plt.show()\n",
        "\n",
        "# Step 10: Model Coefficients\n",
        "print(\"\\nModel Coefficients:\")\n",
        "for feature, coef in zip(X.columns, model.coef_):\n",
        "    print(f\"{feature}: {coef:.2f}\")\n",
        "print(f\"Intercept: {model.intercept_:.2f}\")\n"
      ],
      "metadata": {
        "id": "mz6C198G8Hc_"
      },
      "execution_count": null,
      "outputs": []
    }
  ]
}